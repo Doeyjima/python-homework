{
 "cells": [
  {
   "cell_type": "code",
   "execution_count": 19,
   "id": "233793f6-b967-40e7-98d5-9b4d71e18bbe",
   "metadata": {},
   "outputs": [],
   "source": [
    "import csv\n",
    "from pathlib import Path\n",
    "budget_data = Path(\"../Resources/budget_data.csv\")\n"
   ]
  },
  {
   "cell_type": "code",
   "execution_count": 20,
   "id": "53cbee15-5c39-4189-af88-e1feb4251f9b",
   "metadata": {},
   "outputs": [
    {
     "ename": "FileNotFoundError",
     "evalue": "[Errno 2] No such file or directory: 'budget_data.csv'",
     "output_type": "error",
     "traceback": [
      "\u001b[0;31m---------------------------------------------------------------------------\u001b[0m",
      "\u001b[0;31mFileNotFoundError\u001b[0m                         Traceback (most recent call last)",
      "\u001b[0;32m/var/folders/qg/xszn0rxd6x92fmmlg_xmg1sw0000gn/T/ipykernel_25671/604235038.py\u001b[0m in \u001b[0;36m<module>\u001b[0;34m\u001b[0m\n\u001b[0;32m----> 1\u001b[0;31m \u001b[0;32mwith\u001b[0m \u001b[0mopen\u001b[0m\u001b[0;34m(\u001b[0m\u001b[0;34m'budget_data.csv'\u001b[0m\u001b[0;34m)\u001b[0m \u001b[0;32mas\u001b[0m \u001b[0mcsvfile\u001b[0m\u001b[0;34m:\u001b[0m\u001b[0;34m\u001b[0m\u001b[0;34m\u001b[0m\u001b[0m\n\u001b[0m\u001b[1;32m      2\u001b[0m     \u001b[0mcsvreader\u001b[0m \u001b[0;34m=\u001b[0m \u001b[0mcsv\u001b[0m\u001b[0;34m.\u001b[0m\u001b[0mDictReader\u001b[0m\u001b[0;34m(\u001b[0m\u001b[0mcsvfile\u001b[0m\u001b[0;34m)\u001b[0m\u001b[0;34m\u001b[0m\u001b[0;34m\u001b[0m\u001b[0m\n",
      "\u001b[0;31mFileNotFoundError\u001b[0m: [Errno 2] No such file or directory: 'budget_data.csv'"
     ]
    }
   ],
   "source": [
    "with open('budget_data.csv') as csvfile:  \n",
    "    csvreader = csv.DictReader(csvfile)\n"
   ]
  },
  {
   "cell_type": "code",
   "execution_count": 18,
   "id": "cf3b2591-b9bd-475c-aec2-0f636dfee83b",
   "metadata": {},
   "outputs": [
    {
     "name": "stdout",
     "output_type": "stream",
     "text": [
      "Finacial Analyses\n",
      "--------------------------------------------\n",
      "Total Months: 0\n",
      "Total: $0\n"
     ]
    }
   ],
   "source": [
    "budget_data = []\n",
    "month = []\n",
    "pl = []     \n",
    "\n",
    "#prints header for results\n",
    "print(\"Finacial Analyses\")\n",
    "print(\"--------------------------------------------\")\n",
    "\n",
    "#Counts and prints total number of months\n",
    "for row in budget_data: \n",
    "    month.append(row[0])\n",
    "    pl.append(row[1])\n",
    "\n",
    "print(f'Total Months: {len(month)}')\n",
    "#Finds the sum and prints all values\n",
    "sum_pl = 0 \n",
    "for z in pl: \n",
    "    sum_pl += int(z)\n",
    "print(f'Total: ${sum_pl}')\n",
    "\n",
    "\n",
    "\n"
   ]
  },
  {
   "cell_type": "code",
   "execution_count": 5,
   "id": "0e91262f-b6b1-4752-aa34-aa507f58e155",
   "metadata": {},
   "outputs": [
    {
     "ename": "TypeError",
     "evalue": "type list doesn't define __round__ method",
     "output_type": "error",
     "traceback": [
      "\u001b[0;31m---------------------------------------------------------------------------\u001b[0m",
      "\u001b[0;31mTypeError\u001b[0m                                 Traceback (most recent call last)",
      "\u001b[0;32m/var/folders/qg/xszn0rxd6x92fmmlg_xmg1sw0000gn/T/ipykernel_25671/507567423.py\u001b[0m in \u001b[0;36m<module>\u001b[0;34m\u001b[0m\n\u001b[1;32m     12\u001b[0m \u001b[0;34m\u001b[0m\u001b[0m\n\u001b[1;32m     13\u001b[0m \u001b[0;34m\u001b[0m\u001b[0m\n\u001b[0;32m---> 14\u001b[0;31m \u001b[0mprint\u001b[0m\u001b[0;34m(\u001b[0m\u001b[0;34mf'Average Change: ${round(avg_change,2)}'\u001b[0m\u001b[0;34m)\u001b[0m\u001b[0;34m\u001b[0m\u001b[0;34m\u001b[0m\u001b[0m\n\u001b[0m",
      "\u001b[0;31mTypeError\u001b[0m: type list doesn't define __round__ method"
     ]
    }
   ],
   "source": [
    "avg = []\n",
    "total = 0\n",
    "for i in range(len(pl)-1): \n",
    "    net = int(pl[i+1])-int(pl[i])\n",
    "        \n",
    "    avg.append(net)\n",
    "avg_change = []\n",
    "\n",
    "for x in avg: \n",
    "    total += x\n",
    "    avg_change = total /len(avg)\n",
    "\n",
    "\n",
    "print(f'Average Change: ${round(avg_change,2)}')"
   ]
  },
  {
   "cell_type": "code",
   "execution_count": 6,
   "id": "6558f0e3-317c-42a1-93c2-19f2f1142893",
   "metadata": {},
   "outputs": [
    {
     "ename": "IndexError",
     "evalue": "list index out of range",
     "output_type": "error",
     "traceback": [
      "\u001b[0;31m---------------------------------------------------------------------------\u001b[0m",
      "\u001b[0;31mIndexError\u001b[0m                                Traceback (most recent call last)",
      "\u001b[0;32m/var/folders/qg/xszn0rxd6x92fmmlg_xmg1sw0000gn/T/ipykernel_25671/3136459673.py\u001b[0m in \u001b[0;36m<module>\u001b[0;34m\u001b[0m\n\u001b[0;32m----> 1\u001b[0;31m \u001b[0mlargest\u001b[0m \u001b[0;34m=\u001b[0m \u001b[0mavg\u001b[0m \u001b[0;34m[\u001b[0m\u001b[0;36m0\u001b[0m\u001b[0;34m]\u001b[0m\u001b[0;34m\u001b[0m\u001b[0;34m\u001b[0m\u001b[0m\n\u001b[0m\u001b[1;32m      2\u001b[0m \u001b[0;32mfor\u001b[0m \u001b[0mnumber\u001b[0m \u001b[0;32min\u001b[0m \u001b[0mavg\u001b[0m \u001b[0;34m:\u001b[0m\u001b[0;34m\u001b[0m\u001b[0;34m\u001b[0m\u001b[0m\n\u001b[1;32m      3\u001b[0m     \u001b[0;32mif\u001b[0m \u001b[0mnumber\u001b[0m \u001b[0;34m>\u001b[0m \u001b[0mlargest\u001b[0m\u001b[0;34m:\u001b[0m\u001b[0;34m\u001b[0m\u001b[0;34m\u001b[0m\u001b[0m\n\u001b[1;32m      4\u001b[0m         \u001b[0mlargest\u001b[0m \u001b[0;34m=\u001b[0m \u001b[0mnumber\u001b[0m\u001b[0;34m\u001b[0m\u001b[0;34m\u001b[0m\u001b[0m\n\u001b[1;32m      5\u001b[0m \u001b[0;34m\u001b[0m\u001b[0m\n",
      "\u001b[0;31mIndexError\u001b[0m: list index out of range"
     ]
    }
   ],
   "source": [
    "largest = avg [0]\n",
    "for number in avg : \n",
    "    if number > largest:  \n",
    "        largest = number\n",
    "\n",
    "date_increase = avg.index(largest)\n",
    "date_increase = month[date_increase + 1]\n",
    "\n",
    "print('Greatest increase in profits: {date_increase} $ {largest})')\n",
    "#Finds largest decrease\n",
    "smallest = avg [0]\n",
    "for number in avg : \n",
    "    if number < smallest:  \n",
    "        smallest = number\n",
    "##########\n",
    "date_decrease = avg.index(smallest)\n",
    "date_decrease = month[date_decrease + 1]\n",
    "\n",
    "print('Greatest decrease in profits: {date_decrease} $ {smallest})')\n",
    "print(\"----------------------------------------------------\")"
   ]
  },
  {
   "cell_type": "code",
   "execution_count": null,
   "id": "77090ff2-55cc-4dc8-b3c9-3e1556643f4e",
   "metadata": {},
   "outputs": [],
   "source": []
  }
 ],
 "metadata": {
  "kernelspec": {
   "display_name": "Python 3 (ipykernel)",
   "language": "python",
   "name": "python3"
  },
  "language_info": {
   "codemirror_mode": {
    "name": "ipython",
    "version": 3
   },
   "file_extension": ".py",
   "mimetype": "text/x-python",
   "name": "python",
   "nbconvert_exporter": "python",
   "pygments_lexer": "ipython3",
   "version": "3.9.7"
  }
 },
 "nbformat": 4,
 "nbformat_minor": 5
}
